{
 "cells": [
  {
   "cell_type": "code",
   "execution_count": 1,
   "id": "b5c3e1cb",
   "metadata": {},
   "outputs": [],
   "source": [
    "import pandas as pd\n",
    "import mysql.connector\n",
    "from mysql.connector import Error"
   ]
  },
  {
   "cell_type": "code",
   "execution_count": 2,
   "id": "5e3d7b45",
   "metadata": {},
   "outputs": [],
   "source": [
    "# create server connection\n",
    "\n",
    "def create_server_connection(host_name, user_name, user_password):\n",
    "    connection = None\n",
    "    try:\n",
    "        connection = mysql.connector.connect(\n",
    "            host = host_name,\n",
    "            user = user_name,\n",
    "            password = user_password\n",
    "        )\n",
    "        print('MySQL Database connection sussefull.')\n",
    "    \n",
    "    except Error as err:\n",
    "        print(f'Error: {err}')\n",
    "    \n",
    "    return connection"
   ]
  },
  {
   "cell_type": "code",
   "execution_count": 3,
   "id": "763cdec0",
   "metadata": {},
   "outputs": [
    {
     "name": "stdout",
     "output_type": "stream",
     "text": [
      "MySQL Database connection sussefull.\n"
     ]
    }
   ],
   "source": [
    "pw = 'password'\n",
    "db = 'mysql_python'\n",
    "\n",
    "connection = create_server_connection('localhost', 'root', pw)"
   ]
  },
  {
   "cell_type": "code",
   "execution_count": 4,
   "id": "32b38372",
   "metadata": {},
   "outputs": [],
   "source": [
    "# create mysql_python database\n",
    "\n",
    "def create_database(connection, query):\n",
    "    cursor = connection.cursor()\n",
    "    try:\n",
    "        cursor.execute(query)\n",
    "        print('Database created successfully.')\n",
    "    except Error as err:\n",
    "        print(f'Error: {err}')"
   ]
  },
  {
   "cell_type": "code",
   "execution_count": 5,
   "id": "4f5451c4",
   "metadata": {},
   "outputs": [
    {
     "name": "stdout",
     "output_type": "stream",
     "text": [
      "Database created successfully.\n"
     ]
    }
   ],
   "source": [
    "create_db_query = f'create database if not exists {db}'\n",
    "\n",
    "create_database(connection, create_db_query)"
   ]
  },
  {
   "cell_type": "code",
   "execution_count": 6,
   "id": "a759d905",
   "metadata": {},
   "outputs": [],
   "source": [
    "# connect to a database\n",
    "\n",
    "def create_db_connection(host_name, user_name, user_password, db_name):\n",
    "    connection = None\n",
    "    try:\n",
    "        connection = mysql.connector.connect(\n",
    "            host = host_name,\n",
    "            user = user_name,\n",
    "            password = user_password,\n",
    "            database = db_name\n",
    "        )\n",
    "        print('MySQL database connection successful')\n",
    "    \n",
    "    except Error as err:\n",
    "        print(f'Error: {err}')\n",
    "        \n",
    "    return connection"
   ]
  },
  {
   "cell_type": "code",
   "execution_count": 7,
   "id": "d94c11cd",
   "metadata": {},
   "outputs": [],
   "source": [
    "# Execute sql queries\n",
    "\n",
    "def execute_query(connection, query):\n",
    "    cursor = connection.cursor() # to estalished and run sql statement\n",
    "    try:\n",
    "        cursor.execute(query)\n",
    "        connection.commit()\n",
    "        print('Query executed successfully.')\n",
    "    except Error as err:\n",
    "        print(f'Error: {err}')"
   ]
  },
  {
   "cell_type": "code",
   "execution_count": 8,
   "id": "c84deff3",
   "metadata": {},
   "outputs": [
    {
     "name": "stdout",
     "output_type": "stream",
     "text": [
      "MySQL database connection successful\n",
      "Query executed successfully.\n"
     ]
    }
   ],
   "source": [
    "create_orders_table = \"\"\"\n",
    "create table if not exists orders(\n",
    "    order_id int primary key,\n",
    "    customer_name varchar(30) not null,\n",
    "    product_name varchar(20) not null,\n",
    "    date_ordered date,\n",
    "    quantity int,\n",
    "    unit_price float,\n",
    "    phone_number varchar(20)\n",
    ");\n",
    "\"\"\"\n",
    "\n",
    "# connect to the database\n",
    "connection = create_db_connection('localhost', 'root', pw, db)\n",
    "execute_query(connection, create_orders_table)"
   ]
  },
  {
   "cell_type": "code",
   "execution_count": 11,
   "id": "d2f1b91d",
   "metadata": {},
   "outputs": [],
   "source": [
    "# read everything from sql table\n",
    "\n",
    "def read_query(connection, query):\n",
    "    cursor = connection.cursor()\n",
    "    result = None\n",
    "    try:\n",
    "        cursor.execute(query)\n",
    "        result = cursor.fetchall()\n",
    "        return result\n",
    "    except Error as err:\n",
    "        print(f'Error: {err}')"
   ]
  },
  {
   "cell_type": "code",
   "execution_count": 12,
   "id": "89dc56eb",
   "metadata": {},
   "outputs": [],
   "source": [
    "# fetch everything from sql table and show them in a dataframe\n",
    "\n",
    "def select_all_from(table):\n",
    "    connection = create_db_connection('localhost', 'root', pw, db)\n",
    "    results = read_query(connection, f'select * from {table}')\n",
    "    from_db = []\n",
    "    for result in results:\n",
    "        from_db.append(list(result))\n",
    "    df = pd.DataFrame(from_db)\n",
    "    print(df)"
   ]
  },
  {
   "cell_type": "code",
   "execution_count": 13,
   "id": "3f3274ea",
   "metadata": {},
   "outputs": [
    {
     "name": "stdout",
     "output_type": "stream",
     "text": [
      "MySQL database connection successful\n",
      "     0       1          2           3   4       5             6\n",
      "0  101   steve     Laptop  2018-06-12   2   800.0    6293730802\n",
      "1  102  Mehedi       Book  2015-06-12  10   200.0   57527522725\n",
      "2  103   Hasan     Tshirt  2018-08-12   3    45.0  786543453453\n",
      "3  104   Bijoy        pen  2018-06-15   5     5.0     527523752\n",
      "4  106   Nancy     Laptop  2020-06-12   1   750.0    2445633757\n",
      "5  107   Kohli  Iphone 13  2019-06-12   4  1000.0     245722722\n"
     ]
    }
   ],
   "source": [
    "select_all_from('orders')"
   ]
  },
  {
   "cell_type": "code",
   "execution_count": 14,
   "id": "8c6ab15d",
   "metadata": {},
   "outputs": [
    {
     "name": "stdout",
     "output_type": "stream",
     "text": [
      "MySQL database connection successful\n",
      "Error: 1062 (23000): Duplicate entry '101' for key 'orders.PRIMARY'\n"
     ]
    }
   ],
   "source": [
    "# Insert data\n",
    "\n",
    "data_orders = \"\"\"\n",
    "insert into orders values\n",
    "    (101, 'steve', 'Laptop', '2018-06-12', 2, 800, '6293730802'),\n",
    "    (102, 'Mehedi', 'Book', '2015-06-12', 10, 200, '57527522725'),\n",
    "    (103, 'Hasan', 'Tshirt', '2018-08-12', 3, 60, '786543453453'),\n",
    "    (104, 'Bijoy', 'pen', '2018-06-15', 5, 5, '527523752'),\n",
    "    (105, 'Mehedi', 'Tshirt', '2018-06-12', 1, 50, '763435752'),\n",
    "    (106, 'Nancy', 'Laptop', '2020-06-12', 1, 750, '2445633757'),\n",
    "    (107, 'Kohli', 'Iphone 13', '2019-06-12', 4, 1000, '245722722');\n",
    "\"\"\"\n",
    "\n",
    "connection = create_db_connection('localhost', 'root', pw, db)\n",
    "execute_query(connection, data_orders)"
   ]
  },
  {
   "cell_type": "code",
   "execution_count": 15,
   "id": "2e53e7be",
   "metadata": {},
   "outputs": [
    {
     "name": "stdout",
     "output_type": "stream",
     "text": [
      "MySQL database connection successful\n",
      "(101, 'steve', 'Laptop', datetime.date(2018, 6, 12), 2, 800.0, '6293730802')\n",
      "(102, 'Mehedi', 'Book', datetime.date(2015, 6, 12), 10, 200.0, '57527522725')\n",
      "(103, 'Hasan', 'Tshirt', datetime.date(2018, 8, 12), 3, 45.0, '786543453453')\n",
      "(104, 'Bijoy', 'pen', datetime.date(2018, 6, 15), 5, 5.0, '527523752')\n",
      "(106, 'Nancy', 'Laptop', datetime.date(2020, 6, 12), 1, 750.0, '2445633757')\n",
      "(107, 'Kohli', 'Iphone 13', datetime.date(2019, 6, 12), 4, 1000.0, '245722722')\n"
     ]
    }
   ],
   "source": [
    "# using the select statement\n",
    "\n",
    "query = \"\"\"\n",
    "select * from orders;\n",
    "\"\"\"\n",
    "\n",
    "connection = create_db_connection('localhost', 'root', pw, db)\n",
    "results = read_query(connection, query)\n",
    "\n",
    "for result in results:\n",
    "    print(result)"
   ]
  },
  {
   "cell_type": "code",
   "execution_count": 16,
   "id": "67b98f41",
   "metadata": {},
   "outputs": [
    {
     "name": "stdout",
     "output_type": "stream",
     "text": [
      "MySQL database connection successful\n",
      "('steve', '6293730802')\n",
      "('Mehedi', '57527522725')\n",
      "('Hasan', '786543453453')\n",
      "('Bijoy', '527523752')\n",
      "('Nancy', '2445633757')\n",
      "('Kohli', '245722722')\n"
     ]
    }
   ],
   "source": [
    "query = \"\"\"\n",
    "select customer_name, phone_number from orders;\n",
    "\"\"\"\n",
    "\n",
    "connection = create_db_connection('localhost', 'root', pw, db)\n",
    "results = read_query(connection, query)\n",
    "\n",
    "for result in results:\n",
    "    print(result)"
   ]
  },
  {
   "cell_type": "code",
   "execution_count": 17,
   "id": "21f4e067",
   "metadata": {},
   "outputs": [
    {
     "name": "stdout",
     "output_type": "stream",
     "text": [
      "MySQL database connection successful\n"
     ]
    },
    {
     "data": {
      "text/html": [
       "<div>\n",
       "<style scoped>\n",
       "    .dataframe tbody tr th:only-of-type {\n",
       "        vertical-align: middle;\n",
       "    }\n",
       "\n",
       "    .dataframe tbody tr th {\n",
       "        vertical-align: top;\n",
       "    }\n",
       "\n",
       "    .dataframe thead th {\n",
       "        text-align: right;\n",
       "    }\n",
       "</style>\n",
       "<table border=\"1\" class=\"dataframe\">\n",
       "  <thead>\n",
       "    <tr style=\"text-align: right;\">\n",
       "      <th></th>\n",
       "      <th>id</th>\n",
       "      <th>name</th>\n",
       "      <th>product</th>\n",
       "      <th>date</th>\n",
       "      <th>quantity</th>\n",
       "      <th>price</th>\n",
       "      <th>phone</th>\n",
       "    </tr>\n",
       "  </thead>\n",
       "  <tbody>\n",
       "    <tr>\n",
       "      <th>0</th>\n",
       "      <td>101</td>\n",
       "      <td>steve</td>\n",
       "      <td>Laptop</td>\n",
       "      <td>2018-06-12</td>\n",
       "      <td>2</td>\n",
       "      <td>800.0</td>\n",
       "      <td>6293730802</td>\n",
       "    </tr>\n",
       "    <tr>\n",
       "      <th>1</th>\n",
       "      <td>102</td>\n",
       "      <td>Mehedi</td>\n",
       "      <td>Book</td>\n",
       "      <td>2015-06-12</td>\n",
       "      <td>10</td>\n",
       "      <td>200.0</td>\n",
       "      <td>57527522725</td>\n",
       "    </tr>\n",
       "    <tr>\n",
       "      <th>2</th>\n",
       "      <td>103</td>\n",
       "      <td>Hasan</td>\n",
       "      <td>Tshirt</td>\n",
       "      <td>2018-08-12</td>\n",
       "      <td>3</td>\n",
       "      <td>45.0</td>\n",
       "      <td>786543453453</td>\n",
       "    </tr>\n",
       "    <tr>\n",
       "      <th>3</th>\n",
       "      <td>104</td>\n",
       "      <td>Bijoy</td>\n",
       "      <td>pen</td>\n",
       "      <td>2018-06-15</td>\n",
       "      <td>5</td>\n",
       "      <td>5.0</td>\n",
       "      <td>527523752</td>\n",
       "    </tr>\n",
       "    <tr>\n",
       "      <th>4</th>\n",
       "      <td>106</td>\n",
       "      <td>Nancy</td>\n",
       "      <td>Laptop</td>\n",
       "      <td>2020-06-12</td>\n",
       "      <td>1</td>\n",
       "      <td>750.0</td>\n",
       "      <td>2445633757</td>\n",
       "    </tr>\n",
       "    <tr>\n",
       "      <th>5</th>\n",
       "      <td>107</td>\n",
       "      <td>Kohli</td>\n",
       "      <td>Iphone 13</td>\n",
       "      <td>2019-06-12</td>\n",
       "      <td>4</td>\n",
       "      <td>1000.0</td>\n",
       "      <td>245722722</td>\n",
       "    </tr>\n",
       "  </tbody>\n",
       "</table>\n",
       "</div>"
      ],
      "text/plain": [
       "    id    name    product        date  quantity   price         phone\n",
       "0  101   steve     Laptop  2018-06-12         2   800.0    6293730802\n",
       "1  102  Mehedi       Book  2015-06-12        10   200.0   57527522725\n",
       "2  103   Hasan     Tshirt  2018-08-12         3    45.0  786543453453\n",
       "3  104   Bijoy        pen  2018-06-15         5     5.0     527523752\n",
       "4  106   Nancy     Laptop  2020-06-12         1   750.0    2445633757\n",
       "5  107   Kohli  Iphone 13  2019-06-12         4  1000.0     245722722"
      ]
     },
     "execution_count": 17,
     "metadata": {},
     "output_type": "execute_result"
    }
   ],
   "source": [
    "query = \"\"\"\n",
    "select * from orders;\n",
    "\"\"\"\n",
    "\n",
    "connection = create_db_connection('localhost', 'root', pw, db)\n",
    "results = read_query(connection, query)\n",
    "\n",
    "from_db = []\n",
    "for result in results:\n",
    "    from_db.append(list(result))\n",
    "    \n",
    "columns = ['id', 'name', 'product', 'date', 'quantity', 'price', 'phone']\n",
    "pd.DataFrame(from_db, columns = columns)"
   ]
  },
  {
   "cell_type": "code",
   "execution_count": 18,
   "id": "84292bf1",
   "metadata": {},
   "outputs": [
    {
     "name": "stdout",
     "output_type": "stream",
     "text": [
      "MySQL database connection successful\n",
      "(101, 'steve', 'Laptop', datetime.date(2018, 6, 12), 2, 800.0, '6293730802')\n",
      "(103, 'Hasan', 'Tshirt', datetime.date(2018, 8, 12), 3, 45.0, '786543453453')\n",
      "(104, 'Bijoy', 'pen', datetime.date(2018, 6, 15), 5, 5.0, '527523752')\n"
     ]
    }
   ],
   "source": [
    "# query = \"\"\"\n",
    "# select customer_name, phone_number, year(date_ordered) from orders;\n",
    "# \"\"\"\n",
    "query = \"\"\"\n",
    "select * \n",
    "from orders\n",
    "where year(date_ordered) = 2018\n",
    "order by unit_price desc;\n",
    "\"\"\"\n",
    "\n",
    "connection = create_db_connection('localhost', 'root', pw, db)\n",
    "results = read_query(connection, query)\n",
    "\n",
    "for result in results:\n",
    "    print(result)"
   ]
  },
  {
   "cell_type": "code",
   "execution_count": 19,
   "id": "21614fe7",
   "metadata": {},
   "outputs": [
    {
     "data": {
      "text/html": [
       "<div>\n",
       "<style scoped>\n",
       "    .dataframe tbody tr th:only-of-type {\n",
       "        vertical-align: middle;\n",
       "    }\n",
       "\n",
       "    .dataframe tbody tr th {\n",
       "        vertical-align: top;\n",
       "    }\n",
       "\n",
       "    .dataframe thead th {\n",
       "        text-align: right;\n",
       "    }\n",
       "</style>\n",
       "<table border=\"1\" class=\"dataframe\">\n",
       "  <thead>\n",
       "    <tr style=\"text-align: right;\">\n",
       "      <th></th>\n",
       "      <th>order_id</th>\n",
       "      <th>customer_name</th>\n",
       "      <th>product_name</th>\n",
       "      <th>date_ordered</th>\n",
       "      <th>quantity</th>\n",
       "      <th>unit_price</th>\n",
       "      <th>phone_number</th>\n",
       "    </tr>\n",
       "  </thead>\n",
       "  <tbody>\n",
       "    <tr>\n",
       "      <th>0</th>\n",
       "      <td>101</td>\n",
       "      <td>steve</td>\n",
       "      <td>Laptop</td>\n",
       "      <td>2018-06-12</td>\n",
       "      <td>2</td>\n",
       "      <td>800.0</td>\n",
       "      <td>6293730802</td>\n",
       "    </tr>\n",
       "    <tr>\n",
       "      <th>1</th>\n",
       "      <td>103</td>\n",
       "      <td>Hasan</td>\n",
       "      <td>Tshirt</td>\n",
       "      <td>2018-08-12</td>\n",
       "      <td>3</td>\n",
       "      <td>45.0</td>\n",
       "      <td>786543453453</td>\n",
       "    </tr>\n",
       "    <tr>\n",
       "      <th>2</th>\n",
       "      <td>104</td>\n",
       "      <td>Bijoy</td>\n",
       "      <td>pen</td>\n",
       "      <td>2018-06-15</td>\n",
       "      <td>5</td>\n",
       "      <td>5.0</td>\n",
       "      <td>527523752</td>\n",
       "    </tr>\n",
       "  </tbody>\n",
       "</table>\n",
       "</div>"
      ],
      "text/plain": [
       "   order_id customer_name product_name date_ordered  quantity  unit_price  \\\n",
       "0       101         steve       Laptop   2018-06-12         2       800.0   \n",
       "1       103         Hasan       Tshirt   2018-08-12         3        45.0   \n",
       "2       104         Bijoy          pen   2018-06-15         5         5.0   \n",
       "\n",
       "   phone_number  \n",
       "0    6293730802  \n",
       "1  786543453453  \n",
       "2     527523752  "
      ]
     },
     "execution_count": 19,
     "metadata": {},
     "output_type": "execute_result"
    }
   ],
   "source": [
    "# create a dataframe\n",
    "\n",
    "from_db = []\n",
    "for result in results:\n",
    "    result = list(result)\n",
    "    from_db.append(result)\n",
    "columns = ['order_id', 'customer_name', 'product_name', 'date_ordered', 'quantity', 'unit_price', 'phone_number']\n",
    "\n",
    "df = pd.DataFrame(from_db, columns = columns)\n",
    "df"
   ]
  },
  {
   "cell_type": "code",
   "execution_count": 20,
   "id": "2257f6f6",
   "metadata": {},
   "outputs": [
    {
     "name": "stdout",
     "output_type": "stream",
     "text": [
      "MySQL database connection successful\n",
      "Query executed successfully.\n"
     ]
    }
   ],
   "source": [
    "# update column\n",
    "\n",
    "update = \"\"\"\n",
    "update orders set unit_price = 45\n",
    "where order_id = 103\n",
    "\"\"\"\n",
    "\n",
    "connection = create_db_connection('localhost', 'root', pw, db)\n",
    "execute_query(connection, update)"
   ]
  },
  {
   "cell_type": "code",
   "execution_count": 21,
   "id": "a45cd82c",
   "metadata": {},
   "outputs": [
    {
     "name": "stdout",
     "output_type": "stream",
     "text": [
      "MySQL database connection successful\n",
      "     0       1          2           3   4       5             6\n",
      "0  101   steve     Laptop  2018-06-12   2   800.0    6293730802\n",
      "1  102  Mehedi       Book  2015-06-12  10   200.0   57527522725\n",
      "2  103   Hasan     Tshirt  2018-08-12   3    45.0  786543453453\n",
      "3  104   Bijoy        pen  2018-06-15   5     5.0     527523752\n",
      "4  106   Nancy     Laptop  2020-06-12   1   750.0    2445633757\n",
      "5  107   Kohli  Iphone 13  2019-06-12   4  1000.0     245722722\n"
     ]
    }
   ],
   "source": [
    "select_all_from('orders')"
   ]
  },
  {
   "cell_type": "code",
   "execution_count": 22,
   "id": "508d8185",
   "metadata": {},
   "outputs": [
    {
     "name": "stdout",
     "output_type": "stream",
     "text": [
      "MySQL database connection successful\n"
     ]
    },
    {
     "data": {
      "text/html": [
       "<div>\n",
       "<style scoped>\n",
       "    .dataframe tbody tr th:only-of-type {\n",
       "        vertical-align: middle;\n",
       "    }\n",
       "\n",
       "    .dataframe tbody tr th {\n",
       "        vertical-align: top;\n",
       "    }\n",
       "\n",
       "    .dataframe thead th {\n",
       "        text-align: right;\n",
       "    }\n",
       "</style>\n",
       "<table border=\"1\" class=\"dataframe\">\n",
       "  <thead>\n",
       "    <tr style=\"text-align: right;\">\n",
       "      <th></th>\n",
       "      <th>id</th>\n",
       "      <th>name</th>\n",
       "      <th>product</th>\n",
       "      <th>date</th>\n",
       "      <th>quantity</th>\n",
       "      <th>price</th>\n",
       "      <th>phone</th>\n",
       "    </tr>\n",
       "  </thead>\n",
       "  <tbody>\n",
       "    <tr>\n",
       "      <th>0</th>\n",
       "      <td>103</td>\n",
       "      <td>Hasan</td>\n",
       "      <td>Tshirt</td>\n",
       "      <td>2018-08-12</td>\n",
       "      <td>3</td>\n",
       "      <td>45.0</td>\n",
       "      <td>786543453453</td>\n",
       "    </tr>\n",
       "  </tbody>\n",
       "</table>\n",
       "</div>"
      ],
      "text/plain": [
       "    id   name product        date  quantity  price         phone\n",
       "0  103  Hasan  Tshirt  2018-08-12         3   45.0  786543453453"
      ]
     },
     "execution_count": 22,
     "metadata": {},
     "output_type": "execute_result"
    }
   ],
   "source": [
    "query = \"\"\"\n",
    "select * \n",
    "from orders\n",
    "where order_id = 103\n",
    "\"\"\"\n",
    "\n",
    "connection = create_db_connection('localhost', 'root', pw, db)\n",
    "results = read_query(connection, query)\n",
    "\n",
    "from_db = []\n",
    "for result in results:\n",
    "    from_db.append(list(result))\n",
    "\n",
    "columns = ['id', 'name', 'product', 'date', 'quantity', 'price', 'phone']\n",
    "pd.DataFrame(from_db, columns = columns)"
   ]
  },
  {
   "cell_type": "code",
   "execution_count": 23,
   "id": "091d9823",
   "metadata": {},
   "outputs": [
    {
     "name": "stdout",
     "output_type": "stream",
     "text": [
      "MySQL database connection successful\n",
      "Query executed successfully.\n"
     ]
    }
   ],
   "source": [
    "# delete comman\n",
    "\n",
    "delete_order = '''\n",
    "delete from orders\n",
    "where order_id = 105;\n",
    "'''\n",
    "\n",
    "connection = create_db_connection('localhost', 'root', pw, db)\n",
    "execute_query(connection, delete_order)"
   ]
  },
  {
   "cell_type": "code",
   "execution_count": 24,
   "id": "626e5542",
   "metadata": {},
   "outputs": [
    {
     "name": "stdout",
     "output_type": "stream",
     "text": [
      "MySQL database connection successful\n",
      "     0       1          2           3   4       5             6\n",
      "0  101   steve     Laptop  2018-06-12   2   800.0    6293730802\n",
      "1  102  Mehedi       Book  2015-06-12  10   200.0   57527522725\n",
      "2  103   Hasan     Tshirt  2018-08-12   3    45.0  786543453453\n",
      "3  104   Bijoy        pen  2018-06-15   5     5.0     527523752\n",
      "4  106   Nancy     Laptop  2020-06-12   1   750.0    2445633757\n",
      "5  107   Kohli  Iphone 13  2019-06-12   4  1000.0     245722722\n"
     ]
    }
   ],
   "source": [
    "select_all_from('orders')"
   ]
  },
  {
   "cell_type": "code",
   "execution_count": null,
   "id": "c1fd8504",
   "metadata": {},
   "outputs": [],
   "source": []
  },
  {
   "cell_type": "code",
   "execution_count": null,
   "id": "bbf238c1",
   "metadata": {},
   "outputs": [],
   "source": []
  },
  {
   "cell_type": "code",
   "execution_count": null,
   "id": "93444eed",
   "metadata": {},
   "outputs": [],
   "source": []
  },
  {
   "cell_type": "code",
   "execution_count": null,
   "id": "3222994b",
   "metadata": {},
   "outputs": [],
   "source": []
  }
 ],
 "metadata": {
  "kernelspec": {
   "display_name": "Python 3 (ipykernel)",
   "language": "python",
   "name": "python3"
  },
  "language_info": {
   "codemirror_mode": {
    "name": "ipython",
    "version": 3
   },
   "file_extension": ".py",
   "mimetype": "text/x-python",
   "name": "python",
   "nbconvert_exporter": "python",
   "pygments_lexer": "ipython3",
   "version": "3.8.12"
  }
 },
 "nbformat": 4,
 "nbformat_minor": 5
}

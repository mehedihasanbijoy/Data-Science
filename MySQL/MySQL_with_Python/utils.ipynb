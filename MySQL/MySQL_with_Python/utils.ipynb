{
 "cells": [
  {
   "cell_type": "code",
   "execution_count": null,
   "id": "70eb707a",
   "metadata": {},
   "outputs": [],
   "source": [
    "import pandas as pd\n",
    "import mysql.connector\n",
    "from mysql.connector import Error"
   ]
  },
  {
   "cell_type": "code",
   "execution_count": null,
   "id": "69c41e78",
   "metadata": {},
   "outputs": [],
   "source": [
    "# create server connection\n",
    "\n",
    "def create_server_connection(host_name, user_name, user_password):\n",
    "    connection = None\n",
    "    try:\n",
    "        connection = mysql.connector.connect(\n",
    "            host = host_name,\n",
    "            user = user_name,\n",
    "            password = user_password\n",
    "        )\n",
    "        print('MySQL Database connection sussefull.')\n",
    "    \n",
    "    except Error as err:\n",
    "        print(f'Error: {err}')\n",
    "    \n",
    "    return connection"
   ]
  },
  {
   "cell_type": "code",
   "execution_count": null,
   "id": "fc93ec58",
   "metadata": {},
   "outputs": [],
   "source": [
    "# create mysql_python database\n",
    "\n",
    "def create_database(connection, query):\n",
    "    cursor = connection.cursor()\n",
    "    try:\n",
    "        cursor.execute(query)\n",
    "        print('Database created successfully.')\n",
    "    except Error as err:\n",
    "        print(f'Error: {err}')"
   ]
  },
  {
   "cell_type": "code",
   "execution_count": null,
   "id": "6d1363e1",
   "metadata": {},
   "outputs": [],
   "source": [
    "# connect to a database\n",
    "\n",
    "def create_db_connection(host_name, user_name, user_password, db_name):\n",
    "    connection = None\n",
    "    try:\n",
    "        connection = mysql.connector.connect(\n",
    "            host = host_name,\n",
    "            user = user_name,\n",
    "            password = user_password,\n",
    "            database = db_name\n",
    "        )\n",
    "        print('MySQL database connection successful')\n",
    "    \n",
    "    except Error as err:\n",
    "        print(f'Error: {err}')\n",
    "        \n",
    "    return connection"
   ]
  },
  {
   "cell_type": "code",
   "execution_count": null,
   "id": "021a3870",
   "metadata": {},
   "outputs": [],
   "source": [
    "# Execute sql queries\n",
    "\n",
    "def execute_query(connection, query):\n",
    "    cursor = connection.cursor() # to estalished and run sql statement\n",
    "    try:\n",
    "        cursor.execute(query)\n",
    "        connection.commit()\n",
    "        print('Query executed successfully.')\n",
    "    except Error as err:\n",
    "        print(f'Error: {err}')"
   ]
  },
  {
   "cell_type": "code",
   "execution_count": null,
   "id": "c4d06d9a",
   "metadata": {},
   "outputs": [],
   "source": [
    "# Read rows from database -> select\n",
    "\n",
    "def read_query(connection, query):\n",
    "    cursor = connection.cursor()\n",
    "    result = None\n",
    "    try:\n",
    "        cursor.execute(query)\n",
    "        result = cursor.fetchall()\n",
    "        return result\n",
    "    except Error as err:\n",
    "        print(f'Error: {err}')"
   ]
  },
  {
   "cell_type": "code",
   "execution_count": null,
   "id": "4f720e2b",
   "metadata": {},
   "outputs": [],
   "source": [
    "# fetch all data from a sql table and return as dataframe\n",
    "\n",
    "def select_all_from(table):\n",
    "    connection = create_db_connection('localhost', 'root', pw, db)\n",
    "    results = read_query(connection, f'select * from {table}')\n",
    "    from_db = []\n",
    "    for result in results:\n",
    "        from_db.append(list(result))\n",
    "    df = pd.DataFrame(from_db)\n",
    "    print(df)"
   ]
  },
  {
   "cell_type": "code",
   "execution_count": null,
   "id": "a4cdc46e",
   "metadata": {},
   "outputs": [],
   "source": []
  }
 ],
 "metadata": {
  "kernelspec": {
   "display_name": "Python 3 (ipykernel)",
   "language": "python",
   "name": "python3"
  },
  "language_info": {
   "codemirror_mode": {
    "name": "ipython",
    "version": 3
   },
   "file_extension": ".py",
   "mimetype": "text/x-python",
   "name": "python",
   "nbconvert_exporter": "python",
   "pygments_lexer": "ipython3",
   "version": "3.8.12"
  }
 },
 "nbformat": 4,
 "nbformat_minor": 5
}

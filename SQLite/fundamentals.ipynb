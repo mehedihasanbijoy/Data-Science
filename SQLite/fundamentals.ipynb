{
 "cells": [
  {
   "cell_type": "code",
   "execution_count": 10,
   "id": "7a613769",
   "metadata": {},
   "outputs": [],
   "source": [
    "# SQLite is a software where we can write SQL queries. It is a stand-alone DBMS. \n",
    "# It is preprable for small dbs and embedding systems. \n",
    "\n",
    "# SQLite has only 5 datatypes including\n",
    "#     NULL: exists or not\n",
    "#     INTEGER: a whole number\n",
    "#     REAL: a decimal number\n",
    "#     TEXT: texts\n",
    "#     BLOB: stores as it is, i.e. image"
   ]
  },
  {
   "cell_type": "code",
   "execution_count": 1,
   "id": "86e10326",
   "metadata": {},
   "outputs": [],
   "source": [
    "import sqlite3"
   ]
  },
  {
   "cell_type": "code",
   "execution_count": 8,
   "id": "9e10aade",
   "metadata": {},
   "outputs": [],
   "source": [
    "# connect to the database\n",
    "conn = sqlite3.connect('customer.db')"
   ]
  },
  {
   "cell_type": "code",
   "execution_count": 9,
   "id": "be05d556",
   "metadata": {},
   "outputs": [],
   "source": [
    "# create a cursor\n",
    "c = conn.cursor()"
   ]
  },
  {
   "cell_type": "code",
   "execution_count": 58,
   "id": "2abbe94d",
   "metadata": {},
   "outputs": [
    {
     "data": {
      "text/plain": [
       "<sqlite3.Cursor at 0x26785a08d50>"
      ]
     },
     "execution_count": 58,
     "metadata": {},
     "output_type": "execute_result"
    }
   ],
   "source": [
    "# create a table\n",
    "c.execute(\"\"\"\n",
    "    CREATE TABLE IF NOT EXISTS customers(\n",
    "        first_name text,\n",
    "        last_name text,\n",
    "        email text\n",
    "    )\n",
    "\"\"\")"
   ]
  },
  {
   "cell_type": "code",
   "execution_count": 59,
   "id": "dc5544d3",
   "metadata": {},
   "outputs": [
    {
     "data": {
      "text/plain": [
       "<sqlite3.Cursor at 0x26785a08d50>"
      ]
     },
     "execution_count": 59,
     "metadata": {},
     "output_type": "execute_result"
    }
   ],
   "source": [
    "# insert a record into the table\n",
    "c.execute(\"\"\"\n",
    "    INSERT INTO customers VALUES('Mehedi', 'Bijoy', 'mhb64@gmail.com')\n",
    "\"\"\")"
   ]
  },
  {
   "cell_type": "code",
   "execution_count": 18,
   "id": "ef58af3b",
   "metadata": {},
   "outputs": [],
   "source": [
    "# # insert multiple records into the table\n",
    "# c.execute(\"\"\"\n",
    "#     INSERT INTO customers VALUES\n",
    "#         ('Mehedi', 'Bijoy', 'mhb64@gmail.com'),\n",
    "#         ('Mehedi', 'Bijoy', 'mhb64@gmail.com');\n",
    "# \"\"\")"
   ]
  },
  {
   "cell_type": "code",
   "execution_count": 60,
   "id": "adb71b91",
   "metadata": {},
   "outputs": [
    {
     "name": "stdout",
     "output_type": "stream",
     "text": [
      "Executed Successfully!\n"
     ]
    }
   ],
   "source": [
    "# insert multiple records into the table\n",
    "many_customers = [\n",
    "    (\"Virat\", \"Kohli\", \"vk4574@adf.com\"),\n",
    "    (\"Anushka\", \"Sharma\", \"ansh4@adf.com\"),\n",
    "    (\"KL\", \"Rahul\", \"krahul@gmail.com\"),\n",
    "]\n",
    "\n",
    "c.executemany(\"INSERT INTO customers VALUES (?, ?, ?)\", many_customers)\n",
    "print('Executed Successfully!')"
   ]
  },
  {
   "cell_type": "code",
   "execution_count": 61,
   "id": "3584d991",
   "metadata": {},
   "outputs": [
    {
     "data": {
      "text/plain": [
       "[('Mehedi', 'Bijoy', 'mhb64@gmail.com'),\n",
       " ('Virat', 'Kohli', 'vk4574@adf.com'),\n",
       " ('Anushka', 'Sharma', 'ansh4@adf.com'),\n",
       " ('KL', 'Rahul', 'krahul@gmail.com')]"
      ]
     },
     "execution_count": 61,
     "metadata": {},
     "output_type": "execute_result"
    }
   ],
   "source": [
    "# query the database\n",
    "c.execute(\"\"\"\n",
    "    SELECT * \n",
    "    FROM customers;\n",
    "\"\"\")\n",
    "\n",
    "# c.fetchone() # returns as tuple\n",
    "# c.fetchmany(2) # returns as list: list of tuples\n",
    "c.fetchall() # returns as list: list of tuples"
   ]
  },
  {
   "cell_type": "code",
   "execution_count": 35,
   "id": "f972bfbd",
   "metadata": {},
   "outputs": [
    {
     "data": {
      "text/plain": [
       "[('Mehedi Hasan', 'Bijoy', 'mhb64@gmail.com'),\n",
       " ('Mehedi Hasan', 'Bijoy', 'mhb64@gmail.com')]"
      ]
     },
     "execution_count": 35,
     "metadata": {},
     "output_type": "execute_result"
    }
   ],
   "source": [
    "# fetch filtered records\n",
    "c.execute(\"\"\"\n",
    "    SELECT * \n",
    "    FROM customers \n",
    "    WHERE last_name = 'Bijoy';\n",
    "\"\"\")\n",
    "\n",
    "# c.fetchone() # returns as tuple\n",
    "# c.fetchmany(2) # returns as list: list of tuples\n",
    "c.fetchall() # returns as list: list of tuples"
   ]
  },
  {
   "cell_type": "code",
   "execution_count": 43,
   "id": "8713bb06",
   "metadata": {},
   "outputs": [
    {
     "data": {
      "text/plain": [
       "[(1, 'Mehedi Hasan', 'Bijoy', 'mhb64@gmail.com'),\n",
       " (2, 'Mehedi Hasan', 'Bijoy', 'mhb64@gmail.com'),\n",
       " (3, 'Hasan', 'Sheikh', 'asdf64@gmail.com'),\n",
       " (4, 'Mehedi Hasan', 'Mehedi', 'fadfas@gmail.com'),\n",
       " (5, 'Virat', 'Kohli', 'vk4574@adf.com')]"
      ]
     },
     "execution_count": 43,
     "metadata": {},
     "output_type": "execute_result"
    }
   ],
   "source": [
    "c.execute(\"SELECT rowid, * FROM customers WHERE rowid BETWEEN 1 AND 5\")\n",
    "c.fetchall()"
   ]
  },
  {
   "cell_type": "code",
   "execution_count": 40,
   "id": "154c80c2",
   "metadata": {},
   "outputs": [
    {
     "data": {
      "text/plain": [
       "[(\"Kohli's\", 'Sharma', 'ansh4@adf.com')]"
      ]
     },
     "execution_count": 40,
     "metadata": {},
     "output_type": "execute_result"
    }
   ],
   "source": [
    "# update records\n",
    "c.execute(\"\"\"\n",
    "    UPDATE customers\n",
    "        SET first_name = \"Kohli's\"\n",
    "    WHERE last_name = 'Sharma';\n",
    "\"\"\")\n",
    "conn.commit()\n",
    "\n",
    "c.execute(\"SELECT * FROM customers WHERE last_name = 'Sharma'\")\n",
    "c.fetchall()"
   ]
  },
  {
   "cell_type": "code",
   "execution_count": 46,
   "id": "14c38914",
   "metadata": {},
   "outputs": [
    {
     "data": {
      "text/plain": [
       "[(3, 'Hasan', 'Sheikh', 'asdf64@gmail.com'),\n",
       " (4, 'Mehedi Hasan', 'Mehedi', 'fadfas@gmail.com'),\n",
       " (5, 'Virat', 'Kohli', 'vk4574@adf.com'),\n",
       " (6, \"Kohli's\", 'Sharma', 'ansh4@adf.com'),\n",
       " (7, 'KL', 'Rahul', 'krahul@gmail.com')]"
      ]
     },
     "execution_count": 46,
     "metadata": {},
     "output_type": "execute_result"
    }
   ],
   "source": [
    "# delete records\n",
    "c.execute(\"\"\"\n",
    "    DELETE FROM customers\n",
    "    WHERE last_name in ('Bijoy', 'yojib');\n",
    "\"\"\")\n",
    "\n",
    "c.execute(\"SELECT rowid, * FROM customers\")\n",
    "c.fetchall()"
   ]
  },
  {
   "cell_type": "code",
   "execution_count": 50,
   "id": "3f1dbde5",
   "metadata": {},
   "outputs": [
    {
     "data": {
      "text/plain": [
       "[(7, 'KL', 'Rahul', 'krahul@gmail.com'),\n",
       " (6, \"Kohli's\", 'Sharma', 'ansh4@adf.com'),\n",
       " (5, 'Virat', 'Kohli', 'vk4574@adf.com'),\n",
       " (4, 'Mehedi Hasan', 'Mehedi', 'fadfas@gmail.com'),\n",
       " (3, 'Hasan', 'Sheikh', 'asdf64@gmail.com')]"
      ]
     },
     "execution_count": 50,
     "metadata": {},
     "output_type": "execute_result"
    }
   ],
   "source": [
    "# sort records: order by\n",
    "c.execute(\"\"\"\n",
    "    SELECT rowid, * \n",
    "    FROM customers\n",
    "    ORDER BY rowid DESC; \n",
    "\"\"\") # ASC or DESC\n",
    "\n",
    "c.fetchall()"
   ]
  },
  {
   "cell_type": "code",
   "execution_count": 57,
   "id": "bd3bc02d",
   "metadata": {},
   "outputs": [
    {
     "name": "stdout",
     "output_type": "stream",
     "text": [
      "No Such Table Exists!\n"
     ]
    }
   ],
   "source": [
    "# drop a table\n",
    "c.execute(\"\"\"\n",
    "    DROP TABLE IF EXISTS customers\n",
    "\"\"\")\n",
    "\n",
    "conn.commit()\n",
    "\n",
    "# try to fetch all the records from the table\n",
    "try:\n",
    "    c.execute(\"SELECT * FROM customers\")\n",
    "    c.fetchall()\n",
    "except:\n",
    "    print(\"No Such Table Exists!\")"
   ]
  },
  {
   "cell_type": "code",
   "execution_count": 16,
   "id": "9f4069be",
   "metadata": {},
   "outputs": [],
   "source": [
    "# commit the comman\n",
    "conn.commit()"
   ]
  },
  {
   "cell_type": "code",
   "execution_count": null,
   "id": "2c597ace",
   "metadata": {},
   "outputs": [],
   "source": [
    "# close the connection\n",
    "conn.close()"
   ]
  }
 ],
 "metadata": {
  "kernelspec": {
   "display_name": "Python 3",
   "language": "python",
   "name": "python3"
  },
  "language_info": {
   "codemirror_mode": {
    "name": "ipython",
    "version": 3
   },
   "file_extension": ".py",
   "mimetype": "text/x-python",
   "name": "python",
   "nbconvert_exporter": "python",
   "pygments_lexer": "ipython3",
   "version": "3.8.8"
  }
 },
 "nbformat": 4,
 "nbformat_minor": 5
}
